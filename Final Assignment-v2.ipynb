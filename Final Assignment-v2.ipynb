# 导入所需库
import yfinance as yf
import pandas as pd
import requests
from bs4 import BeautifulSoup
import plotly.graph_objects as go
from plotly.subplots import make_subplots

# 问题1：使用yfinance提取特斯拉股票数据
def extract_tesla_stock_data():
    # 创建特斯拉Ticker对象（股票代码：TSLA）
    tesla = yf.Ticker("TSLA")
    # 下载最大可用历史数据
    tesla_stock_data = tesla.history(period="max")
    # 重置索引，方便后续处理
    tesla_stock_data.reset_index(inplace=True)
    print("特斯拉股票数据前5行：")
    print(tesla_stock_data.head())
    return tesla_stock_data

# 问题2：使用网页爬取提取特斯拉营收数据
def extract_tesla_revenue_data():
    # 爬取特斯拉营收数据的网页（示例URL，实际需替换为正确来源）
    url = "https://www.macrotrends.net/stocks/charts/TSLA/tesla/revenue"
    response = requests.get(url)
    soup = BeautifulSoup(response.text, 'html.parser')
    
    # 查找包含营收数据的表格（根据实际网页结构调整选择器）
    tables = soup.find_all('table')
    # 假设第二个表格是营收数据
    tesla_revenue_table = tables[1]
    
    # 解析表格数据
    revenue_data = []
    for row in tesla_revenue_table.find_all('tr')[1:]:  # 跳过表头
        cols = row.find_all('td')
        if len(cols) == 2:
            date = cols[0].text.strip()
            revenue = cols[1].text.strip().replace('$', '').replace(',', '')  # 清理数据
            revenue_data.append({"Date": date, "Revenue": revenue})
    
    # 转换为DataFrame
    tesla_revenue = pd.DataFrame(revenue_data)
    tesla_revenue['Revenue'] = pd.to_numeric(tesla_revenue['Revenue'])  # 转换为数值类型
    print("\n特斯拉营收数据前5行：")
    print(tesla_revenue.head())
    return tesla_revenue

# 问题3：使用yfinance提取GameStop股票数据
def extract_gamestop_stock_data():
    # 创建GameStop Ticker对象（股票代码：GME）
    gamestop = yf.Ticker("GME")
    # 下载最大可用历史数据
    gamestop_stock_data = gamestop.history(period="max")
    # 重置索引
    gamestop_stock_data.reset_index(inplace=True)
    print("\nGameStop股票数据前5行：")
    print(gamestop_stock_data.head())
    return gamestop_stock_data

# 问题4：使用网页爬取提取GameStop营收数据
def extract_gamestop_revenue_data():
    # 爬取GameStop营收数据的网页（示例URL，实际需替换为正确来源）
    url = "https://www.macrotrends.net/stocks/charts/GME/gamestop/revenue"
    response = requests.get(url)
    soup = BeautifulSoup(response.text, 'html.parser')
    
    # 查找包含营收数据的表格（根据实际网页结构调整选择器）
    tables = soup.find_all('table')
    # 假设第二个表格是营收数据
    gamestop_revenue_table = tables[1]
    
    # 解析表格数据
    revenue_data = []
    for row in gamestop_revenue_table.find_all('tr')[1:]:  # 跳过表头
        cols = row.find_all('td')
        if len(cols) == 2:
            date = cols[0].text.strip()
            revenue = cols[1].text.strip().replace('$', '').replace(',', '')  # 清理数据
            revenue_data.append({"Date": date, "Revenue": revenue})
    
    # 转换为DataFrame
    gamestop_revenue = pd.DataFrame(revenue_data)
    gamestop_revenue['Revenue'] = pd.to_numeric(gamestop_revenue['Revenue'])  # 转换为数值类型
    print("\nGameStop营收数据前5行：")
    print(gamestop_revenue.head())
    return gamestop_revenue

# 问题5：特斯拉股票与营收仪表盘
def tesla_dashboard(tesla_stock, tesla_revenue):
    # 创建子图
    fig = make_subplots(rows=2, cols=1, 
                        shared_xaxes=True, 
                        subplot_titles=("特斯拉股票价格", "特斯拉营收"),
                        vertical_spacing=0.3)
    
    # 添加股票价格数据（收盘价）
    fig.add_trace(
        go.Scatter(x=tesla_stock['Date'], y=tesla_stock['Close'], name="收盘价"),
        row=1, col=1
    )
    
    # 添加营收数据
    fig.add_trace(
        go.Bar(x=tesla_revenue['Date'], y=tesla_revenue['Revenue'], name="营收"),
        row=2, col=1
    )
    
    # 更新布局
    fig.update_layout(
        title_text="特斯拉股票价格与营收对比",
        height=800,
        showlegend=False
    )
    
    # 显示图表
    fig.show()

# 问题6：GameStop股票与营收仪表盘
def gamestop_dashboard(gamestop_stock, gamestop_revenue):
    # 创建子图
    fig = make_subplots(rows=2, cols=1, 
                        shared_xaxes=True, 
                        subplot_titles=("GameStop股票价格", "GameStop营收"),
                        vertical_spacing=0.3)
    
    # 添加股票价格数据（收盘价）
    fig.add_trace(
        go.Scatter(x=gamestop_stock['Date'], y=gamestop_stock['Close'], name="收盘价"),
        row=1, col=1
    )
    
    # 添加营收数据
    fig.add_trace(
        go.Bar(x=gamestop_revenue['Date'], y=gamestop_revenue['Revenue'], name="营收"),
        row=2, col=1
    )
    
    # 更新布局
    fig.update_layout(
        title_text="GameStop股票价格与营收对比",
        height=800,
        showlegend=False
    )
    
    # 显示图表
    fig.show()

# 主函数：执行所有步骤
def main():
    # 提取数据
    tesla_stock = extract_tesla_stock_data()
    tesla_revenue = extract_tesla_revenue_data()
    gamestop_stock = extract_gamestop_stock_data()
    gamestop_revenue = extract_gamestop_revenue_data()
    
    # 生成仪表盘
    tesla_dashboard(tesla_stock, tesla_revenue)
    gamestop_dashboard(gamestop_stock, gamestop_revenue)

if __name__ == "__main__":
    main()
